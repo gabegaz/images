{
 "cells": [
  {
   "cell_type": "markdown",
   "id": "a81e9d2f-bf33-469e-afd4-bb7fc19ad163",
   "metadata": {},
   "source": [
    "# Computer Vission\n",
    "## Introduction\n",
    "\n",
    "Computer Vision is an interdisciplinary field that deals with how computers can be made to gain high-level understanding from digital images or videos. From the perspective of engineering, it seeks to understand and automate tasks such as object recognition, image processing, 3D reconstruction, scene analysis, motion estimation, object tracking, learning algorithms for vision and robotics, etc. As a scientific discipline it also addresses fundamental issues associated with human perception, including visual memory, optic nerve structure and function, color vision, visual epistemology, the philosophy of visual communication, the development of cameras and other imaging devices which extend beyond normal human capabilities, etc."
   ]
  },
  {
   "cell_type": "markdown",
   "id": "611d2d58-83d4-4675-bbbe-fdc1b8293a10",
   "metadata": {},
   "source": [
    "Computer vision tasks include methods for acquiring, processing, analyzing and interpreting digital images (still images) in order to produce information about the objects, people, environment, and other items within these images. This information may then be used to control machines according to some criteria determined by humans. These tasks are performed under unconstrained environments, thus challenges arise due to factors such as varying lighting conditions, camera viewpoint and angle, different backgrounds, occlusions, cluttered scenes, motion blur, changing appearance and shape of subjects, etc."
   ]
  },
  {
   "cell_type": "markdown",
   "id": "2de29ba6-87de-4268-90e8-ff9c0f878780",
   "metadata": {},
   "source": [
    "The goals of computer vision tend to fall into one of several categories:\n",
    "* Image Recognition: Identifying specific features or objects within an image (e.g., face detection).\n",
    "* Scene Understanding: Classifying what type of scene is depicted in the image (e.g., natural vs urban).\n",
    "* Spatial Layout: Analyzing the arrangement of objects and their relationships within the image (e.g., determining relative distances between objects).\n",
    "* Motion Estimation: Determine movement patterns using multiple images (e.g., optical flow).\n",
    "* 3D Reconstruction: Creating a three dimensional representation of objects or scenes from two dimensional data (e.g., 3D scanners)."
   ]
  },
  {
   "cell_type": "markdown",
   "id": "6cbec91a-cd02-4903-8e98-1aa816592b7f",
   "metadata": {},
   "source": [
    "## Applications\n",
    "There are numerous practical applications of computer vision across various industries. Here are some examples:\n",
    "\n",
    "1. Autonomous Vehicles: One of the most significant uses of computer vision is in self-driving cars where it plays a critical role in identifying obstacles, road signs, lane markings, traffic signals, pedestrians, and other vehicles on the road. The technology helps the car make decisions based on real-time input from cameras and sensors.\n",
    "2. Facial Recognition: Another popular application of computer vision is facial recognition, which allows systems to identify and verify individuals through video surveillance or smartphone cameras. It's widely used in security systems, access controls, social media platforms, banking, border control, and law enforcement.\n",
    "3. Object Detection: In manufacturing plants, computer vision systems help detect defective products on assembly lines. They can inspect goods, read barcodes, measure dimensions, and ensure quality standards are met. Retail stores use similar technologies to track inventory levels, monitor customer behavior, and prevent shoplifting.\n",
    "4. Medical Imaging Analysis: Computer vision algorithms assist doctors and radiologists in diagnosing diseases and abnormalities by automatically analyzing medical images like X-rays, CT scans, MRI scans, and mammograms. For instance, they can detect cancerous nodules in lung CT scans, classify types of retinal damage in eye scans, or evaluate brain perfusion in MRIs.\n",
    "5. Agriculture: Precision farming relies heavily on computer vision to analyze crops, soil, and weather conditions. Drones equipped with cameras capture aerial footage that reveal crop health, growth rates, water usage, pests, and nutrient deficiencies. Satellites can estimate yields and predict harvest times at a regional scale. Machine learning models process this data to optimize irrigation, fertilization, pruning, and plant spacing strategies.\n",
    "6. Quality Control: Many industrial processes require accurate inspection of parts and assemblies. Computer vision systems examine finished products, semi-finished products, and raw materials i"
   ]
  },
  {
   "cell_type": "markdown",
   "id": "0f299f56-9524-4694-aed9-199ecc1c6485",
   "metadata": {},
   "source": [
    "In this part of the project, we will see how the basics of image recognition algorithms work with digit recognition dubbed the `Hello World` of image recognition using Keras/Tensorflow."
   ]
  },
  {
   "cell_type": "markdown",
   "id": "ff0ceb79",
   "metadata": {},
   "source": [
    "# Digit Recognition with Keras\n",
    "\n",
    "## Introduction\n",
    "In this article, we will dive into undertanding how a basic neural network works to recognize digits using the _MNIST_ data set with a Python library Keras/Tensorflow. A digit recogniztion problem with keras is a problem where a deep learning model is trained to identify whether a digit put in an image is one of the numbers (say between 0 and 9). This simple exercise is fundamental to doing bigger machine learning projects such as image recogniton or object recogntion where these later assignments need a more advanced form the network we are training here. Potential applications of such more advanced neural network training is in the area of manufacturing (detection of product defects), self-driving vehicles, security (facial recognition), detecting disease in the health care industry etc."
   ]
  },
  {
   "cell_type": "code",
   "execution_count": null,
   "id": "eb689d36-e255-4c0c-878c-205fb43c81e3",
   "metadata": {},
   "outputs": [],
   "source": []
  },
  {
   "cell_type": "markdown",
   "id": "f08622a3-d5d7-4caf-aa15-c60968763055",
   "metadata": {},
   "source": [
    "## Setting up environment\n",
    "\n",
    "Before starting to code, we need to create a Python virtual environment. You can use either `conda` or `venv` for this. If you are using conda, use the following command line. Open your terminal and write the following code block."
   ]
  },
  {
   "cell_type": "markdown",
   "id": "494eacd1-b60b-4296-a040-4b790e853e5c",
   "metadata": {},
   "source": [
    "<pre>\n",
    "<code>\n",
    "cd /path/to/folder                       #change your directory to the folder you what to\n",
    "mkdir NAME_OF_DIRECTORY                  #create your folder anywhere you want your project to reside.\n",
    "conda create --name ENV_NAME python=3.9  #replace [YOUR ENV NAME] with your own environment name; \n",
    "                                         #we are using python 3.9 for this project\n",
    "conda activate YOUR ENV NAME]            #You are now withing your python environment\n",
    "pip install tensorflow                   #tensorflow is installed within your\n",
    "</code>\n",
    "</pre>"
   ]
  },
  {
   "cell_type": "markdown",
   "id": "ea5ea484-3465-46c2-ad9e-06e89debab7e",
   "metadata": {},
   "source": [
    "If you want to follow the tutorial with Pyhon `venv`, then you can follow by running the following code."
   ]
  },
  {
   "cell_type": "markdown",
   "id": "d98bd9c1-e588-4595-9833-504c3e09e89c",
   "metadata": {},
   "source": [
    "<pre>\n",
    "<code>\n",
    "cd /path/to/folder                   #change your directory to the folder you what to\n",
    "mkdir NAME_OF_DIRECTORY              #create your folder anywhere you want your project to reside.\n",
    "                                     #Replace NAME_OF_DIRECTORY with your own folder name\n",
    "python3 venv YOUR_VIRTUAL_ENV        #replace YOUR_VIRTUAL_ENV with your own name\n",
    "source venv/bin/activate             #This activates your environment\n",
    "pip install tensorflow               #tensorflow is installed within your \n",
    "</code>\n",
    "</pre>"
   ]
  },
  {
   "cell_type": "markdown",
   "id": "49864733-ed8e-4016-a787-83dfca419ffd",
   "metadata": {},
   "source": [
    "## Understanding the data\n",
    "\n",
    "The _MNIST_ database (short for **M**odified **N**ational **I**nstitute of **S**tandards and **T**echnology database) is a large\n",
    "database of handwritten digits that is commonly used for training various image processing systems.The database is also widely used for training and testing in the field of machine learning.\n",
    "\n",
    "The _MNIST_ database is already included in tensorflow installation, along with keras. We need a package called `mnist` to load the _MNIST_ data to our local machine. `mnist` package is imported as follows. If you have GPU in your machine and not using it, you might need to run the first two lines.\n"
   ]
  },
  {
   "cell_type": "code",
   "execution_count": 36,
   "id": "e5583477",
   "metadata": {
    "tags": []
   },
   "outputs": [],
   "source": [
    "# This avoids any warning for not using GPU\n",
    "import os\n",
    "os.environ['TF_CPP_MIN_LOG_LEVEL'] = '3' \n",
    "\n",
    "# import tensorflow and mnist package\n",
    "from tensorflow.keras.datasets import mnist"
   ]
  },
  {
   "cell_type": "markdown",
   "id": "e705400e",
   "metadata": {},
   "source": [
    "We can then load mnist dataset using the package's function `load_data()`."
   ]
  },
  {
   "cell_type": "code",
   "execution_count": 37,
   "id": "61d15a1b",
   "metadata": {
    "tags": []
   },
   "outputs": [],
   "source": [
    "(train_images, train_labels),(test_images, test_labels) = mnist.load_data()"
   ]
  },
  {
   "cell_type": "markdown",
   "id": "e94b2865",
   "metadata": {},
   "source": [
    "We have four datasets:\n",
    "1) Training images and their corresponding labels, and\n",
    "2) Test images with their corresponding labels. \n",
    "\n",
    "Both train and test images are stored in a _numpy_ format. If you want to have an idea of of what the training images look like, use `shape` attribute of numpy. The output comes with `(60000, 28, 28)` as shown below. This means the data has sixty thausand samples (or data points/examples) of different digit categories (or classes) with a shape (28, 28).\n",
    "\n",
    "These images are black and white square images with 28 pixels height and 28 pixels width."
   ]
  },
  {
   "cell_type": "code",
   "execution_count": 38,
   "id": "e6f403cf",
   "metadata": {
    "tags": []
   },
   "outputs": [
    {
     "data": {
      "text/plain": [
       "(60000, 28, 28)"
      ]
     },
     "execution_count": 38,
     "metadata": {},
     "output_type": "execute_result"
    }
   ],
   "source": [
    "train_images.shape"
   ]
  },
  {
   "cell_type": "markdown",
   "id": "eba38078",
   "metadata": {},
   "source": [
    "The number of examples can also be known with the standard Python `len` function."
   ]
  },
  {
   "cell_type": "code",
   "execution_count": 39,
   "id": "4ee81ff3",
   "metadata": {
    "tags": []
   },
   "outputs": [
    {
     "data": {
      "text/plain": [
       "60000"
      ]
     },
     "execution_count": 39,
     "metadata": {},
     "output_type": "execute_result"
    }
   ],
   "source": [
    "len(train_images)"
   ]
  },
  {
   "cell_type": "markdown",
   "id": "06707627",
   "metadata": {},
   "source": [
    "For each of the example images, there is a corresponding label. The _MNIST_ training labels are a list of 60,000 numbers (corresponding to the number of images) ranging from 0-9. You can see this list like so."
   ]
  },
  {
   "cell_type": "code",
   "execution_count": 40,
   "id": "6dc16be8",
   "metadata": {
    "tags": []
   },
   "outputs": [
    {
     "data": {
      "text/plain": [
       "array([5, 0, 4, ..., 5, 6, 8], dtype=uint8)"
      ]
     },
     "execution_count": 40,
     "metadata": {},
     "output_type": "execute_result"
    }
   ],
   "source": [
    "train_labels"
   ]
  },
  {
   "cell_type": "markdown",
   "id": "7a0f5526",
   "metadata": {},
   "source": [
    "The length of the this list is computed similarly by using the `len` function."
   ]
  },
  {
   "cell_type": "code",
   "execution_count": 41,
   "id": "59a932db",
   "metadata": {
    "tags": []
   },
   "outputs": [
    {
     "data": {
      "text/plain": [
       "60000"
      ]
     },
     "execution_count": 41,
     "metadata": {},
     "output_type": "execute_result"
    }
   ],
   "source": [
    "len(train_labels)"
   ]
  },
  {
   "cell_type": "markdown",
   "id": "2c81370c",
   "metadata": {},
   "source": [
    "Once we have the nature and the structure of the data, we can build our model. Building the model without looking at your data might give you a headache later when you try to fit your model. So, it is advisable to work on your data first. In real world projects, you might spend quite little bit of time cleaning and restructuring your data. \n",
    "\n",
    "In our case, the _MNIST_ data is already clean and is ready for training. Only three items remain to be solved.\n",
    "\n",
    "1) Reshaping our data so that it will fit to the model we will be building in the next section.\n",
    "2) Change integer values into floating points\n",
    "\n",
    " **1. Change integer values into floating points**\n",
    "\n",
    "First is reshaping data from a two dimentional to a one-dimentional datasets. The following code snippet converts the two dimensional image `(28, 28)` to a one-dimensional image of length `(28*28)`."
   ]
  },
  {
   "cell_type": "code",
   "execution_count": 42,
   "id": "294455c8",
   "metadata": {
    "tags": []
   },
   "outputs": [],
   "source": [
    "train_images = train_images.reshape((60000, 28 * 28))"
   ]
  },
  {
   "cell_type": "markdown",
   "id": "a19b7da1",
   "metadata": {},
   "source": [
    "Now you can see that each of the training images is a one-dimentional image with 784 features, rather than a two-dimensional image with 28 features each, as can be seen from the below code block."
   ]
  },
  {
   "cell_type": "code",
   "execution_count": 43,
   "id": "08ab589a",
   "metadata": {
    "tags": []
   },
   "outputs": [
    {
     "data": {
      "text/plain": [
       "(60000, 784)"
      ]
     },
     "execution_count": 43,
     "metadata": {},
     "output_type": "execute_result"
    }
   ],
   "source": [
    "train_images.shape"
   ]
  },
  {
   "cell_type": "markdown",
   "id": "5f926262",
   "metadata": {},
   "source": [
    " \n",
    " **2. Reshaping our data so that it will fit to the model we will be building in the next section**\n",
    "\n",
    "The second item is changing integers to floating points.This is because, as they are, we have integer values ranging from 0-255 for each pixel in these images. We need to change this format into floating numbers through a division by 255."
   ]
  },
  {
   "cell_type": "code",
   "execution_count": 44,
   "id": "4365766b",
   "metadata": {
    "tags": []
   },
   "outputs": [],
   "source": [
    "train_images = train_images.astype(\"float32\") / 255"
   ]
  },
  {
   "cell_type": "code",
   "execution_count": 45,
   "id": "d5cec612",
   "metadata": {
    "tags": []
   },
   "outputs": [
    {
     "data": {
      "text/plain": [
       "60000"
      ]
     },
     "execution_count": 45,
     "metadata": {},
     "output_type": "execute_result"
    }
   ],
   "source": [
    "len(train_labels)"
   ]
  },
  {
   "cell_type": "markdown",
   "id": "88c37863",
   "metadata": {},
   "source": [
    "We are done with working with the training data. The test data has a similar structure and you can use the same thing as above. The only difference is in the number of examples. While we have 60,000 training images, we have only 10,000 images. We will come back to this later while we test our trained mode."
   ]
  },
  {
   "cell_type": "markdown",
   "id": "5a80e867",
   "metadata": {
    "tags": []
   },
   "source": [
    "## Building the model\n",
    "\n",
    "To build the model, we first import `keras` and `layers` from `tensorflow`."
   ]
  },
  {
   "cell_type": "code",
   "execution_count": 46,
   "id": "d589fcf4",
   "metadata": {
    "tags": []
   },
   "outputs": [],
   "source": [
    "from tensorflow import keras\n",
    "from tensorflow.keras import layers"
   ]
  },
  {
   "cell_type": "markdown",
   "id": "a384cd8f",
   "metadata": {},
   "source": [
    "The first step in buidling our network is to determine number of parameters (that which change during training) and type/number of hyperparameters (that which we do not change during training; but change in between training). In our case, we are going to build a small model with two layers (including the output layer, but excluding the input layer). \n",
    "\n",
    "The first input will have 510 cells while the output layer has 10 cells (as it should be because we have only ten classes of digits: 0-9). The input layer is not counted as layer because it is the example itself. In our case, we have 784 cells (i.e. 28*28).\n",
    "\n",
    "We set two hyperparameters. In the first layer, the activation layer is `relu` (i.e. rectified linear unit) while the activation layer for the output layer is a `softmax`.\n",
    "\n",
    "Our model is named as digit_recognizer and is built as follows:"
   ]
  },
  {
   "cell_type": "code",
   "execution_count": 47,
   "id": "2141e715",
   "metadata": {
    "tags": []
   },
   "outputs": [],
   "source": [
    "digit_recognizer = keras.Sequential([\n",
    "    layers.Dense(510, activation='relu'),\n",
    "    layers.Dense(10, activation='softmax')\n",
    "])"
   ]
  },
  {
   "cell_type": "markdown",
   "id": "86c09b6e-d96e-45e2-b9c2-91d3ad210465",
   "metadata": {},
   "source": [
    "From now on, we will be working with `digit_recognizer` which holds all the parameters and hyperparameters of the model; will supply us important functions which we will be using in the next sections."
   ]
  },
  {
   "cell_type": "markdown",
   "id": "f3856039",
   "metadata": {},
   "source": [
    "## Model compilation\n",
    "\n",
    "In order to make the above model ready for training, we need to make some configurations on the model. At this stage, there are three important hyperparameters to consider for the configuration. \n",
    "\n",
    "The model should have a mechanism to learn (i.e. through which the model will update itself) based on the training data it sees, so as to improve its performance. This is handled by the `optimizer` hyperparameter. There are several optimzers out there with different ways of handling this updating (learning) process based on the specific problem at hand. We use `rmsprop` in this project.\n",
    "\n",
    "The output (probabilities from the final layer) of the model should be compared with the ground truth. This comparizon is made based on a standard `loss` function. While you will have several of these loss functions available depending on the problem at hand, we will use `sparse_categorical_crossentropy` for this project.\n",
    "\n",
    "Finally, progress in the learning process should be recorded so that the necessary intervention is made by the data scientist by changing hyperparameters.The `metric` argument serves this purpose.  Computing accuracy can be enough for this exampple. So, we use `accuracy`.\n",
    "\n",
    "To make these comfigurations (or compile our model), we use the `compile()` function of the our model."
   ]
  },
  {
   "cell_type": "code",
   "execution_count": 48,
   "id": "6471a815",
   "metadata": {
    "tags": []
   },
   "outputs": [],
   "source": [
    "digit_recognizer.compile(\n",
    "    optimizer = 'rmsprop',\n",
    "    loss = 'sparse_categorical_crossentropy',\n",
    "    metrics= ['accuracy']\n",
    ")"
   ]
  },
  {
   "cell_type": "markdown",
   "id": "195de0c2",
   "metadata": {},
   "source": [
    "## Fitting model\n",
    "\n",
    "Fitting a model is a fancy word for `training` the model. We use the `fit()` function of the model that was already compiled in the above section. We will give the training images and training labels to this function. Furthermore, we still need to set some additional hyperparameters for this function. The first is the number of `epochs`. An epoch is when all the training data is used at once and is defined as the total number of iterations of all the training data in one cycle for training the model. We set 50 in our example. That is, we need the training to go five times (all the data should pass throught the model 5 times).\n",
    "\n",
    "The second hyperparameter is the `batch_size` which is number of samples processed before the model is updated. We set 128 in this example. This means that once the first 128 example training images are processed, the model is updated. The second update is made only after the next 128 examples (i.e. at the 256th etc.) \n",
    "\n",
    "The third hyperparameter is `validation_data` which is the proporation of the validation data set.A validation data set is used in deep learning (and in supervised machine learning in general) to compare the performance of different trained models. This enables us to choose the correct model or hyper-parameters within the model.\n",
    "\n",
    "Finally, because this is the training stage, there are some temporary variables/values generated such as losses and metrics that we defined above in the model compilation stage. We need to capture them to monitor the training processes. We will capture them in the `hist` object that preceeds the model.\n",
    "\n",
    "To save space here, outputs are omitted; if you run this on your local machine, you will see some lengthy output. The training might take a couple of minutes under normal circumstances. Depending on your computing power of your local machine, it might take longer. "
   ]
  },
  {
   "cell_type": "code",
   "execution_count": 49,
   "id": "985705ee",
   "metadata": {
    "tags": []
   },
   "outputs": [],
   "source": [
    "hist = digit_recognizer.fit(train_images,\n",
    "                      train_labels,\n",
    "                      epochs=50,\n",
    "                      batch_size=128,\n",
    "                      validation_split=0.25, \n",
    "                      verbose=0)  "
   ]
  },
  {
   "cell_type": "markdown",
   "id": "be2b5e76",
   "metadata": {},
   "source": [
    "## Model validation\n",
    "\n",
    "Model validation is the task of evaluating whether a chosen model is appropriate or not. We have some variables, created during training, that would help us check this appropriateness of the model. Two of the most important ones are the loss and accuracy of the training and validation data generated during the training process. \n",
    "\n",
    "We can have access to these values from the hist object that we caputred when we run the `digit_recognizer.fit()` function in the above step.\n",
    "\n",
    "Now, let's get a dictionary of these values and print the keys. You can also find the values using `history_dict.values()`."
   ]
  },
  {
   "cell_type": "code",
   "execution_count": 50,
   "id": "6274074e",
   "metadata": {
    "tags": []
   },
   "outputs": [
    {
     "data": {
      "text/plain": [
       "dict_keys(['loss', 'accuracy', 'val_loss', 'val_accuracy'])"
      ]
     },
     "execution_count": 50,
     "metadata": {},
     "output_type": "execute_result"
    }
   ],
   "source": [
    "history_dict = hist.history\n",
    "history_dict.keys()"
   ]
  },
  {
   "cell_type": "markdown",
   "id": "1972dbad",
   "metadata": {},
   "source": [
    "`loss` and `accuracy` are the loss and accuracy values respectively from the training data. Similarly, `val_loss` and `val_accuracy` are the loss and accuracy of the validation data set based on the trained model.\n",
    "\n",
    "Now, lets get the actual values from this dictionary object. "
   ]
  },
  {
   "cell_type": "code",
   "execution_count": 51,
   "id": "47f652be",
   "metadata": {
    "tags": []
   },
   "outputs": [],
   "source": [
    "loss = history_dict[\"loss\"]\n",
    "acc = history_dict[\"accuracy\"]\n",
    "\n",
    "valid_loss = history_dict[\"val_loss\"]\n",
    "valid_acc = history_dict[\"val_accuracy\"]"
   ]
  },
  {
   "cell_type": "markdown",
   "id": "547a3b6f",
   "metadata": {},
   "source": [
    "We can then draw these values on a two dimentional plot so that we can see what the loss and accuracy of how the training and validation data sets predict the labels. On the y-axis are the loss and accuracy values while the x-axis is the number of epochs.\n",
    "\n",
    "The first graph below shows the level of training loss and validation loss (i.e. y-axis) over the epochs (i.e. x-axis).  We need to create an epoch variable for this, like so. The epochs variable has sequential numbers ranging from 1 to 51 (excluded)."
   ]
  },
  {
   "cell_type": "code",
   "execution_count": 52,
   "id": "39606f70",
   "metadata": {
    "tags": []
   },
   "outputs": [
    {
     "name": "stdout",
     "output_type": "stream",
     "text": [
      "range(1, 51)\n"
     ]
    }
   ],
   "source": [
    "epochs = range(1, len(loss) + 1)\n",
    "print(epochs)"
   ]
  },
  {
   "cell_type": "markdown",
   "id": "03bb96f4",
   "metadata": {},
   "source": [
    "Next, we need to importy matplotlib graphing libarary, and use the `plt.plot()` funciton to draw the graph. Following the import of `matplotlib`, we determine the ideal size of the graph."
   ]
  },
  {
   "cell_type": "code",
   "execution_count": 53,
   "id": "ee290913",
   "metadata": {
    "tags": []
   },
   "outputs": [],
   "source": [
    "import matplotlib.pyplot as plt\n",
    "plt.rcParams['figure.figsize'] = [6, 6]"
   ]
  },
  {
   "cell_type": "code",
   "execution_count": 54,
   "id": "7a7f0d3a",
   "metadata": {
    "tags": []
   },
   "outputs": [
    {
     "data": {
      "image/png": "[encoded data removed]",
      "text/plain": [
       "<Figure size 600x600 with 1 Axes>"
      ]
     },
     "metadata": {},
     "output_type": "display_data"
    }
   ],
   "source": [
    "plt.plot(epochs, loss, \"bo\", label=\"Training loss\")\n",
    "plt.plot(epochs, valid_loss, \"b\", label=\"Validation loss\")\n",
    "plt.title(\"Training and validation loss\")\n",
    "plt.xlabel(\"Epochs\")\n",
    "plt.ylabel(\"Loss\")\n",
    "plt.legend()\n",
    "plt.show()"
   ]
  },
  {
   "cell_type": "markdown",
   "id": "e4790a53",
   "metadata": {},
   "source": [
    "In a similar fassion, we can draw the accuracy of the training and validation data sets in the y-axis and epochs in the x-asis as shown below."
   ]
  },
  {
   "cell_type": "code",
   "execution_count": 55,
   "id": "d2951527",
   "metadata": {
    "tags": []
   },
   "outputs": [
    {
     "data": {
      "image/png": "[encoded data removed]",
      "text/plain": [
       "<Figure size 600x600 with 1 Axes>"
      ]
     },
     "metadata": {},
     "output_type": "display_data"
    }
   ],
   "source": [
    "plt.plot(epochs, acc, \"bo\", label=\"Training accuracy\")\n",
    "plt.plot(epochs, valid_acc, \"b\", label=\"Validation accuracy\")\n",
    "plt.title(\"Training and validation accuracy\")\n",
    "plt.xlabel(\"Epochs\")\n",
    "plt.ylabel(\"Loss\")\n",
    "plt.legend()\n",
    "plt.show()"
   ]
  },
  {
   "cell_type": "markdown",
   "id": "1a3844ab",
   "metadata": {},
   "source": [
    "Looking at these graphs, we can have some adjustments based on the shape of the graphs and gap between the two lines. There can be either model overfitting/underfitting. We can then make adjustments in either the parameters or hyperparameters of the model to solve these overfitting/underfitting. There are some known techniques for this: increase/decrease model size, modify input features based on insights from error analysis, reduce or eliminate regularization, modify model architecture or add more training data. I will come to these solutions in a latter project.\n",
    "\n",
    "Once we make these adjustments guided by the validation data set, we might arrive at the reasonably good performing model. So far, the validation model is used just to make adjustments on the model/data. The actual test of the model is to be seen when the model is embarked on to an unknown data set. We do this in the following section."
   ]
  },
  {
   "cell_type": "markdown",
   "id": "aa12ea63",
   "metadata": {},
   "source": [
    "## Model evaluation\n",
    "\n",
    "Before testing the model,let's explore our test data. First, the size and shape of the test data. We use similar functions that we used in the second section. We can run the shape and length of the test images as follows:"
   ]
  },
  {
   "cell_type": "code",
   "execution_count": 56,
   "id": "50ebbfe6",
   "metadata": {
    "tags": []
   },
   "outputs": [
    {
     "data": {
      "text/plain": [
       "((10000, 28, 28), 10000)"
      ]
     },
     "execution_count": 56,
     "metadata": {},
     "output_type": "execute_result"
    }
   ],
   "source": [
    "test_images.shape, len(test_images)"
   ]
  },
  {
   "cell_type": "markdown",
   "id": "d119d20e",
   "metadata": {},
   "source": [
    "We have 10,000 test images with shape `(28*28)` pixels. Furthermore, we can also see their labels, which are similar to train_images."
   ]
  },
  {
   "cell_type": "code",
   "execution_count": 57,
   "id": "558593c0",
   "metadata": {
    "tags": []
   },
   "outputs": [
    {
     "data": {
      "text/plain": [
       "array([7, 2, 1, ..., 4, 5, 6], dtype=uint8)"
      ]
     },
     "execution_count": 57,
     "metadata": {},
     "output_type": "execute_result"
    }
   ],
   "source": [
    "test_labels"
   ]
  },
  {
   "cell_type": "markdown",
   "id": "0da142e8",
   "metadata": {},
   "source": [
    "We need to do two things before feeding the test data into our trained model. First, because the model was trained based on the train_images whose shape is `60000, 28*28)`, we need to transform the test data in a similar fashion:"
   ]
  },
  {
   "cell_type": "code",
   "execution_count": 58,
   "id": "1a88783c",
   "metadata": {
    "tags": []
   },
   "outputs": [],
   "source": [
    "test_images = test_images.reshape((10000, 28 * 28))"
   ]
  },
  {
   "cell_type": "markdown",
   "id": "059b6988",
   "metadata": {},
   "source": [
    "Then, we also convert the integers 0-255 into a floating point `float32`."
   ]
  },
  {
   "cell_type": "code",
   "execution_count": 59,
   "id": "c45e7385",
   "metadata": {
    "tags": []
   },
   "outputs": [],
   "source": [
    "test_images = test_images.astype(\"float32\") / 255"
   ]
  },
  {
   "cell_type": "markdown",
   "id": "b1d98324",
   "metadata": {},
   "source": [
    "To predict images based on test images, we use `recognizer.predict()` function. We feed into the model the first 10 test images."
   ]
  },
  {
   "cell_type": "code",
   "execution_count": 60,
   "id": "dd7625bc",
   "metadata": {
    "tags": []
   },
   "outputs": [
    {
     "name": "stdout",
     "output_type": "stream",
     "text": [
      "1/1 [==============================] - 0s 37ms/step\n"
     ]
    }
   ],
   "source": [
    "predictions = digit_recognizer.predict(test_images[0:10])"
   ]
  },
  {
   "cell_type": "markdown",
   "id": "1ba9224d",
   "metadata": {},
   "source": [
    "Let's see the outputs of the `prediction` object with the first test in the list(remember a python arraw is zero indexed)."
   ]
  },
  {
   "cell_type": "code",
   "execution_count": 61,
   "id": "e8df1310",
   "metadata": {
    "tags": []
   },
   "outputs": [
    {
     "data": {
      "text/plain": [
       "array([1.5489556e-13, 2.0395665e-16, 9.5044302e-12, 9.6397891e-08,\n",
       "       1.5982714e-20, 3.3603317e-15, 1.5724074e-19, 9.9999982e-01,\n",
       "       8.1117844e-13, 8.9997726e-10], dtype=float32)"
      ]
     },
     "execution_count": 61,
     "metadata": {},
     "output_type": "execute_result"
    }
   ],
   "source": [
    "predictions[0]"
   ]
  },
  {
   "cell_type": "markdown",
   "id": "6531146c",
   "metadata": {},
   "source": [
    "Each number in the array list above corresponds to the probability that digit image the digit belongs to class. The 8th element (i.e. number 7-remember that the array is a zero indexed list) for example is the heighest (9.9999982e-01=0.99999982) among the probabilities of the ten classes. This shows that the first element (i.e. `predictions[0]`) is probably 7. We can see this with the `predictions[0].argmax()` function like so."
   ]
  },
  {
   "cell_type": "code",
   "execution_count": 62,
   "id": "dbccc207",
   "metadata": {
    "tags": []
   },
   "outputs": [
    {
     "data": {
      "text/plain": [
       "7"
      ]
     },
     "execution_count": 62,
     "metadata": {},
     "output_type": "execute_result"
    }
   ],
   "source": [
    "predictions[0].argmax()"
   ]
  },
  {
   "cell_type": "markdown",
   "id": "18598455",
   "metadata": {},
   "source": [
    "Let's check if this prediciton is correct and is right in predicting the ground truth."
   ]
  },
  {
   "cell_type": "code",
   "execution_count": 63,
   "id": "affc1b68",
   "metadata": {
    "tags": []
   },
   "outputs": [
    {
     "data": {
      "text/plain": [
       "7"
      ]
     },
     "execution_count": 63,
     "metadata": {},
     "output_type": "execute_result"
    }
   ],
   "source": [
    "test_labels[0]"
   ]
  },
  {
   "cell_type": "markdown",
   "id": "0bf86511",
   "metadata": {},
   "source": [
    "The model predicts it right! You can also test with other examples. For example, the following code shows (with a little bit of formatting) the prediction and actual values side by side for the sixth predicted element. The predicted digit is 4 and the actual is also four. You can do this for other examples."
   ]
  },
  {
   "cell_type": "code",
   "execution_count": 64,
   "id": "9cb5eb8d",
   "metadata": {
    "tags": []
   },
   "outputs": [
    {
     "name": "stdout",
     "output_type": "stream",
     "text": [
      "Predicted digit: 4, Actual digit: 4\n"
     ]
    }
   ],
   "source": [
    "print(f'Predicted digit: {predictions[6].argmax()}, Actual digit: {test_labels[6]}')"
   ]
  },
  {
   "cell_type": "markdown",
   "id": "8bea95fd",
   "metadata": {},
   "source": [
    "Because the accuracy of this model is more than 98 percent. You might not get a wrong prediction. However, this is not always true and the model might not be able to predict every digit perfectly. There might be some digits that are not correctly predicted. \n",
    "Checking whether the model is correctly predicting or not based on a signle test image might not be an efficient way of checking the performance of the model. Therefore, we should have an aggregated measure for the performance of the model. For this, we use the evaluate function of the model: `recognizer.evaluate()`. It outputs the overall test using the loss and accuracy measures computed above.\n",
    "\n",
    "Run the following code to do this. Watch closely that all the test data was given to the `recognizer.evaluate()` function unlike the above tests with only part of the test data. This is because we want to see the overall performance of the model, rather than example by example."
   ]
  },
  {
   "cell_type": "code",
   "execution_count": 65,
   "id": "d06440f6",
   "metadata": {
    "tags": []
   },
   "outputs": [
    {
     "name": "stdout",
     "output_type": "stream",
     "text": [
      "313/313 [==============================] - 0s 1ms/step - loss: 0.0829 - accuracy: 0.9814\n"
     ]
    }
   ],
   "source": [
    "test_loss, test_acc = digit_recognizer.evaluate(test_images, test_labels)"
   ]
  },
  {
   "cell_type": "markdown",
   "id": "8232a1f4",
   "metadata": {},
   "source": [
    "Now, you can see the overall performance by printing the `test_acc` object. The output shows a little higher than 98 percent performance, which is good given our simple model."
   ]
  },
  {
   "cell_type": "code",
   "execution_count": 66,
   "id": "4748316e",
   "metadata": {
    "tags": []
   },
   "outputs": [
    {
     "name": "stdout",
     "output_type": "stream",
     "text": [
      "Test accuracy: 98.1%\n"
     ]
    }
   ],
   "source": [
    "print(f\"Test accuracy: {round(test_acc*100, 1)}%\")"
   ]
  },
  {
   "cell_type": "markdown",
   "id": "66e22fdb-4f3b-4342-9c0f-563145f2279c",
   "metadata": {},
   "source": [
    "We can see that the performance of the model is 98 percent. This means if the model is given, say, 100 unknown images (similar to the ones used for training the model), then it will probably be predicting right 98 of the time correctly. "
   ]
  }
 ],
 "metadata": {
  "kernelspec": {
   "display_name": "Python 3 (ipykernel)",
   "language": "python",
   "name": "python3"
  },
  "language_info": {
   "codemirror_mode": {
    "name": "ipython",
    "version": 3
   },
   "file_extension": ".py",
   "mimetype": "text/x-python",
   "name": "python",
   "nbconvert_exporter": "python",
   "pygments_lexer": "ipython3",
   "version": "3.9.16"
  },
  "vscode": {
   "interpreter": {
    "hash": "dabdb70225ba4e2537cc3905dbd0199cca88355d1715d964a5dd6b012243c0bd"
   }
  }
 },
 "nbformat": 4,
 "nbformat_minor": 5
}
