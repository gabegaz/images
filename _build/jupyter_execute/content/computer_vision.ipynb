{
 "cells": [
  {
   "cell_type": "markdown",
   "id": "a81e9d2f-bf33-469e-afd4-bb7fc19ad163",
   "metadata": {},
   "source": [
    "# Computer Vission\n",
    "## Introduction\n",
    "\n",
    "Computer Vision is an interdisciplinary field that deals with how computers can be made to gain high-level understanding from digital images or videos. From the perspective of engineering, it seeks to understand and automate tasks such as object recognition, image processing, 3D reconstruction, scene analysis, motion estimation, object tracking, learning algorithms for vision and robotics, etc. As a scientific discipline it also addresses fundamental issues associated with human perception, including visual memory, optic nerve structure and function, color vision, visual epistemology, the philosophy of visual communication, the development of cameras and other imaging devices which extend beyond normal human capabilities, etc."
   ]
  },
  {
   "cell_type": "markdown",
   "id": "611d2d58-83d4-4675-bbbe-fdc1b8293a10",
   "metadata": {},
   "source": [
    "Computer vision tasks include methods for acquiring, processing, analyzing and interpreting digital images (still images) in order to produce information about the objects, people, environment, and other items within these images. This information may then be used to control machines according to some criteria determined by humans. These tasks are performed under unconstrained environments, thus challenges arise due to factors such as varying lighting conditions, camera viewpoint and angle, different backgrounds, occlusions, cluttered scenes, motion blur, changing appearance and shape of subjects, etc."
   ]
  },
  {
   "cell_type": "markdown",
   "id": "2de29ba6-87de-4268-90e8-ff9c0f878780",
   "metadata": {},
   "source": [
    "The goals of computer vision tend to fall into one of several categories:\n",
    "* Image Recognition: Identifying specific features or objects within an image (e.g., face detection).\n",
    "* Scene Understanding: Classifying what type of scene is depicted in the image (e.g., natural vs urban).\n",
    "* Spatial Layout: Analyzing the arrangement of objects and their relationships within the image (e.g., determining relative distances between objects).\n",
    "* Motion Estimation: Determine movement patterns using multiple images (e.g., optical flow).\n",
    "* 3D Reconstruction: Creating a three dimensional representation of objects or scenes from two dimensional data (e.g., 3D scanners)."
   ]
  },
  {
   "cell_type": "markdown",
   "id": "6cbec91a-cd02-4903-8e98-1aa816592b7f",
   "metadata": {},
   "source": [
    "## Applications\n",
    "There are numerous practical applications of computer vision across various industries. Here are some examples:\n",
    "\n",
    "1. Autonomous Vehicles: One of the most significant uses of computer vision is in self-driving cars where it plays a critical role in identifying obstacles, road signs, lane markings, traffic signals, pedestrians, and other vehicles on the road. The technology helps the car make decisions based on real-time input from cameras and sensors.\n",
    "2. Facial Recognition: Another popular application of computer vision is facial recognition, which allows systems to identify and verify individuals through video surveillance or smartphone cameras. It's widely used in security systems, access controls, social media platforms, banking, border control, and law enforcement.\n",
    "3. Object Detection: In manufacturing plants, computer vision systems help detect defective products on assembly lines. They can inspect goods, read barcodes, measure dimensions, and ensure quality standards are met. Retail stores use similar technologies to track inventory levels, monitor customer behavior, and prevent shoplifting.\n",
    "4. Medical Imaging Analysis: Computer vision algorithms assist doctors and radiologists in diagnosing diseases and abnormalities by automatically analyzing medical images like X-rays, CT scans, MRI scans, and mammograms. For instance, they can detect cancerous nodules in lung CT scans, classify types of retinal damage in eye scans, or evaluate brain perfusion in MRIs.\n",
    "5. Agriculture: Precision farming relies heavily on computer vision to analyze crops, soil, and weather conditions. Drones equipped with cameras capture aerial footage that reveal crop health, growth rates, water usage, pests, and nutrient deficiencies. Satellites can estimate yields and predict harvest times at a regional scale. Machine learning models process this data to optimize irrigation, fertilization, pruning, and plant spacing strategies.\n",
    "6. Quality Control: Many industrial processes require accurate inspection of parts and assemblies. Computer vision systems examine finished products, semi-finished products, and raw materials i"
   ]
  },
  {
   "cell_type": "markdown",
   "id": "0f299f56-9524-4694-aed9-199ecc1c6485",
   "metadata": {},
   "source": [
    "In this part of the project, we will see how the basics of image recognition algorithms work with digit recognition dubbed the `Hello World` of image recognition using Keras/Tensorflow."
   ]
  }
 ],
 "metadata": {
  "kernelspec": {
   "display_name": "Python 3 (ipykernel)",
   "language": "python",
   "name": "python3"
  },
  "language_info": {
   "codemirror_mode": {
    "name": "ipython",
    "version": 3
   },
   "file_extension": ".py",
   "mimetype": "text/x-python",
   "name": "python",
   "nbconvert_exporter": "python",
   "pygments_lexer": "ipython3",
   "version": "3.9.16"
  },
  "vscode": {
   "interpreter": {
    "hash": "dabdb70225ba4e2537cc3905dbd0199cca88355d1715d964a5dd6b012243c0bd"
   }
  }
 },
 "nbformat": 4,
 "nbformat_minor": 5
}