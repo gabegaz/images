{
 "cells": [
  {
   "cell_type": "markdown",
   "id": "ff0ceb79",
   "metadata": {},
   "source": [
    "# Digit Recognition with Keras\n",
    "\n",
    "## Introduction\n",
    "In this article, we will dive into undertanding how a basic neural network works to recognize digits using the _MNIST_ data set with a Python library Keras/Tensorflow. A digit recogniztion problem with keras is a problem where a deep learning model is trained to identify whether a digit put in an image is one of the numbers (say between 0 and 9). This simple exercise is fundamental to doing bigger machine learning projects such as image recogniton or object recogntion where these later assignments need a more advanced form the network we are training here. Potential applications of such more advanced neural network training is in the area of manufacturing (detection of product defects), self-driving vehicles, security (facial recognition), detecting disease in the health care industry etc."
   ]
  },
  {
   "cell_type": "markdown",
   "id": "f08622a3-d5d7-4caf-aa15-c60968763055",
   "metadata": {},
   "source": [
    "## Setting up environment\n",
    "\n",
    "Before starting to code, we need to create a Python virtual environment. You can use either `conda` or `venv` for this. If you are using conda, use the following command line. Open your terminal and write the following code block."
   ]
  },
  {
   "cell_type": "markdown",
   "id": "494eacd1-b60b-4296-a040-4b790e853e5c",
   "metadata": {},
   "source": [
    "<pre>\n",
    "<code>\n",
    "cd /path/to/folder                       #change your directory to the folder you what to\n",
    "mkdir NAME_OF_DIRECTORY                  #create your folder anywhere you want your project to reside.\n",
    "conda create --name ENV_NAME python=3.9  #replace [YOUR ENV NAME] with your own environment name; \n",
    "                                         #we are using python 3.9 for this project\n",
    "conda activate YOUR ENV NAME]            #You are now withing your python environment\n",
    "pip install tensorflow                   #tensorflow is installed within your\n",
    "</code>\n",
    "</pre>"
   ]
  },
  {
   "cell_type": "markdown",
   "id": "ea5ea484-3465-46c2-ad9e-06e89debab7e",
   "metadata": {},
   "source": [
    "If you want to follow the tutorial with Pyhon `venv`, then you can follow by running the following code."
   ]
  },
  {
   "cell_type": "markdown",
   "id": "d98bd9c1-e588-4595-9833-504c3e09e89c",
   "metadata": {},
   "source": [
    "<pre>\n",
    "<code>\n",
    "cd /path/to/folder                   #change your directory to the folder you what to\n",
    "mkdir NAME_OF_DIRECTORY              #create your folder anywhere you want your project to reside.\n",
    "                                     #Replace NAME_OF_DIRECTORY with your own folder name\n",
    "python3 venv YOUR_VIRTUAL_ENV        #replace YOUR_VIRTUAL_ENV with your own name\n",
    "source venv/bin/activate             #This activates your environment\n",
    "pip install tensorflow               #tensorflow is installed within your \n",
    "</code>\n",
    "</pre>"
   ]
  }
 ],
 "metadata": {
  "kernelspec": {
   "display_name": "Python 3 (ipykernel)",
   "language": "python",
   "name": "python3"
  },
  "language_info": {
   "codemirror_mode": {
    "name": "ipython",
    "version": 3
   },
   "file_extension": ".py",
   "mimetype": "text/x-python",
   "name": "python",
   "nbconvert_exporter": "python",
   "pygments_lexer": "ipython3",
   "version": "3.9.16"
  },
  "vscode": {
   "interpreter": {
    "hash": "dabdb70225ba4e2537cc3905dbd0199cca88355d1715d964a5dd6b012243c0bd"
   }
  }
 },
 "nbformat": 4,
 "nbformat_minor": 5
}